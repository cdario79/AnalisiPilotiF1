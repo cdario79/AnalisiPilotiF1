{
  "nbformat": 4,
  "nbformat_minor": 0,
  "metadata": {
    "colab": {
      "provenance": [],
      "authorship_tag": "ABX9TyNJ9P8tlX0+vkBh15Ai1p0R",
      "include_colab_link": true
    },
    "kernelspec": {
      "name": "python3",
      "display_name": "Python 3"
    },
    "language_info": {
      "name": "python"
    }
  },
  "cells": [
    {
      "cell_type": "markdown",
      "metadata": {
        "id": "view-in-github",
        "colab_type": "text"
      },
      "source": [
        "<a href=\"https://colab.research.google.com/github/cdario79/AnalisiPilotiF1/blob/main/Analisi_dei_Piloti_del_Mondiale_di_Formula_1.ipynb\" target=\"_parent\"><img src=\"https://colab.research.google.com/assets/colab-badge.svg\" alt=\"Open In Colab\"/></a>"
      ]
    },
    {
      "cell_type": "code",
      "source": [
        "# Import the 'requests' library. This library is used to make HTTP requests,\n",
        "# which allow your program to interact with web services and download data from websites.\n",
        "import requests\n",
        "\n",
        "# Import the 'csv' library. This library provides tools to work with CSV (Comma Separated Values) files,\n",
        "# allowing you to read and write data in this common tabular format.\n",
        "import csv"
      ],
      "metadata": {
        "id": "lcA3iNmn9idk"
      },
      "execution_count": 1,
      "outputs": []
    },
    {
      "cell_type": "code",
      "source": [
        "# This dictionary defines the points awarded to drivers based on their finishing position in a race.\n",
        "# For example, the driver finishing in 1st place gets 10 points, 2nd place gets 8 points, and so on.\n",
        "POINTS_BY_POSITION = {\n",
        "    1: 10,\n",
        "    2: 8,\n",
        "    3: 6,\n",
        "    4: 5,\n",
        "    5: 4,\n",
        "    6: 3,\n",
        "    7: 2,\n",
        "    8: 1\n",
        "}"
      ],
      "metadata": {
        "id": "-NlvURmS9YoU"
      },
      "execution_count": 2,
      "outputs": []
    },
    {
      "cell_type": "code",
      "source": [
        "def read_data():\n",
        "    \"\"\"\n",
        "    Reads data from the CSV file and returns it as a list of dictionaries.\n",
        "\n",
        "    Each dictionary in the list represents a row in the CSV file,\n",
        "    with keys corresponding to the column headers and values corresponding to the cell values.\n",
        "\n",
        "    Returns:\n",
        "        list: A list of dictionaries containing the data from the CSV file.\n",
        "               Returns an empty list if there is an error fetching or processing the data.\n",
        "    \"\"\"\n",
        "    try:\n",
        "        # Define the URL of the CSV file to download.\n",
        "        url = \"https://raw.githubusercontent.com/cdario79/AnalisiPilotiF1/refs/heads/main/formula1_data.csv\"\n",
        "\n",
        "        # Send a GET request to the URL to download the file.\n",
        "        response = requests.get(url)\n",
        "\n",
        "        # If the request was unsuccessful, raise an exception.\n",
        "        response.raise_for_status()\n",
        "\n",
        "        # Create a CSV reader object that treats the first row as headers.\n",
        "        reader = csv.DictReader(response.text.splitlines())\n",
        "\n",
        "        # Return the data as a list of dictionaries.\n",
        "        return list(reader)\n",
        "\n",
        "    # Handle errors that may occur during data fetching or processing.\n",
        "    except requests.exceptions.RequestException as e:\n",
        "        # Print an error message if there's a problem with the request.\n",
        "        print(f\"Error fetching data: {e}\")\n",
        "        return []  # Return an empty list in case of error\n",
        "    except (ValueError, KeyError) as e:\n",
        "        # Print an error message if there's a problem processing the data.\n",
        "        print(f\"Error processing data: {e}\")\n",
        "        return []  # Return an empty list in case of error\n",
        "    except Exception as e:\n",
        "        # Print a generic error message for unexpected errors.\n",
        "        print(f\"An unexpected error occurred: {e}\")\n",
        "        return []  # Return an empty list in case of error"
      ],
      "metadata": {
        "id": "UeVZbksv9bTS"
      },
      "execution_count": 3,
      "outputs": []
    },
    {
      "cell_type": "code",
      "source": [
        "def analyze_driver(driver_name):\n",
        "    \"\"\"\n",
        "    Analyzes the performance of a driver based on the provided dataset.\n",
        "\n",
        "    Args:\n",
        "        driver_name (str): The name of the driver to analyze.\n",
        "\n",
        "    Returns:\n",
        "        list: A list containing the total points, number of wins, and number of podiums for the driver.\n",
        "              Returns an empty list if the driver is not found or an error occurs.\n",
        "    \"\"\"\n",
        "    # Read the data from the CSV file.\n",
        "    data = read_data()\n",
        "\n",
        "    # Initialize variables to store the driver's statistics.\n",
        "    total_points = 0\n",
        "    wins = 0\n",
        "    podiums = 0\n",
        "\n",
        "    # Iterate through each row (race result) in the data.\n",
        "    for row in data:\n",
        "        # Check if the current row matches the driver we're analyzing.\n",
        "        if row['Driver'] == driver_name:\n",
        "            # Get the driver's finishing position in the race.\n",
        "            position = int(row['Position'])\n",
        "\n",
        "            # Get the points earned for the driver's finishing position.\n",
        "            # If the position is not found in the POINTS_BY_POSITION dictionary (e.g., position > 8),\n",
        "            # it defaults to 0 points, ensuring drivers outside the points positions are handled correctly.\n",
        "            points = POINTS_BY_POSITION.get(position, 0)\n",
        "            # Add the points to the driver's total points.\n",
        "            total_points += points\n",
        "\n",
        "            # Check if the driver won the race (position 1).\n",
        "            if position == 1:\n",
        "                # If so, increment wins and podiums.\n",
        "                wins += 1\n",
        "                podiums += 1\n",
        "            # Check if the driver finished in 2nd or 3rd place.\n",
        "            elif position == 2 or position == 3:\n",
        "                # If so, increment podiums.\n",
        "                podiums += 1\n",
        "\n",
        "    # Return the driver's statistics as a list.\n",
        "    return [total_points, wins, podiums]"
      ],
      "metadata": {
        "id": "36K9gGx7kzHN"
      },
      "execution_count": 4,
      "outputs": []
    },
    {
      "cell_type": "code",
      "source": [
        "# Example usage: Analyze the performance of a specific driver (e.g., \"Hamilton\").\n",
        "driver_data = analyze_driver(\"Hamilton\")\n",
        "# If driver_data is not empty (meaning the driver was found), print the results.\n",
        "if driver_data:\n",
        "    # Print the driver's total points, wins, and podium finishes.\n",
        "    print(f\"Points: {driver_data[0]}, Wins: {driver_data[1]}, Podiums: {driver_data[2]}\")"
      ],
      "metadata": {
        "colab": {
          "base_uri": "https://localhost:8080/"
        },
        "id": "oBWwoLVM_lGg",
        "outputId": "8bcb4a75-c1ec-4576-b655-3ca00ac76071"
      },
      "execution_count": 5,
      "outputs": [
        {
          "output_type": "stream",
          "name": "stdout",
          "text": [
            "Points: 98, Wins: 5, Podiums: 10\n"
          ]
        }
      ]
    },
    {
      "cell_type": "code",
      "source": [
        "def save_driver_standings(standings, filename=\"Drivers_Standings_2008.txt\"):\n",
        "    \"\"\"\n",
        "    Saves the driver standings to a text file.\n",
        "\n",
        "    Args:\n",
        "        standings (dict): A dictionary containing the driver standings.\n",
        "        filename (str, optional): The name of the file to save the standings to.\n",
        "                                  Defaults to \"Drivers_Standings_2008.txt\".\n",
        "    \"\"\"\n",
        "    try:\n",
        "        with open(filename, \"w\") as file:\n",
        "            file.write(\"Drivers Standings 2008 Formula 1\\n\")\n",
        "            for driver, points in standings.items():\n",
        "                file.write(f\"{driver}: {points}\\n\")\n",
        "    except OSError as e:\n",
        "        print(f\"Error saving driver standings to file: {e}\")\n",
        "    except Exception as e:\n",
        "        print(f\"An unexpected error occurred: {e}\")"
      ],
      "metadata": {
        "id": "fm0Qb7DDJAI6"
      },
      "execution_count": null,
      "outputs": []
    },
    {
      "cell_type": "code",
      "source": [
        "def generate_driver_standings():\n",
        "    \"\"\"\n",
        "    Generates and saves the final driver standings for the 2008 F1 season.\n",
        "\n",
        "    This function reads race data, calculates total points for each driver,\n",
        "    sorts them by points, and saves the standings to a text file.\n",
        "\n",
        "    Returns:\n",
        "        dict: A dictionary containing the driver standings,\n",
        "              where keys are driver names and values are their total points.\n",
        "    \"\"\"\n",
        "    # 1. Read race data from the CSV file.\n",
        "    data = read_data()\n",
        "\n",
        "    # 2. Create an empty dictionary to store driver points.\n",
        "    driver_points = {}\n",
        "\n",
        "    # 3. Get a list of all unique drivers in the dataset.\n",
        "    all_drivers = list(set(row['Driver'] for row in data))\n",
        "\n",
        "    # 4. Iterate through each driver in the list.\n",
        "    for driver in all_drivers:\n",
        "        # a. Analyze the driver's performance to get their total points.\n",
        "        # We only need the total points, so we use '_' for wins and podiums.\n",
        "        total_points, _, _ = analyze_driver(driver)\n",
        "        # b. Store the driver's total points in the dictionary.\n",
        "        driver_points[driver] = total_points\n",
        "\n",
        "    # 5. Sort the drivers by their total points in descending order.\n",
        "    sorted_standings = dict(sorted(driver_points.items(), key=lambda item: item[1], reverse=True))\n",
        "\n",
        "    # 6. Save the driver standings to a text file.\n",
        "    save_driver_standings(sorted_standings)\n",
        "\n",
        "    # 7. Return the sorted driver standings dictionary.\n",
        "    return sorted_standings"
      ],
      "metadata": {
        "id": "4ecJVA66mmEp"
      },
      "execution_count": null,
      "outputs": []
    },
    {
      "cell_type": "code",
      "source": [
        "# Example usage: Generate and print the driver standings.\n",
        "driver_standings = generate_driver_standings()\n",
        "\n",
        "# Print a header for the standings.\n",
        "print(\"Drivers Standings 2008 Formula 1\")\n",
        "\n",
        "# Iterate through the driver standings dictionary.\n",
        "for driver, points in driver_standings.items():\n",
        "    # Print each driver's name and their total points.\n",
        "    print(f\"{driver}: {points}\")"
      ],
      "metadata": {
        "colab": {
          "base_uri": "https://localhost:8080/"
        },
        "id": "CEo7HvSq_psF",
        "outputId": "e455e9b5-f67b-454f-f4a7-4149e138d4bb"
      },
      "execution_count": null,
      "outputs": [
        {
          "output_type": "stream",
          "name": "stdout",
          "text": [
            "Drivers Standings 2008 Formula 1\n",
            "Hamilton: 98\n",
            "Massa: 97\n",
            "Kubica: 75\n",
            "Raikkonen: 75\n",
            "Alonso: 61\n",
            "Heidfeld: 60\n",
            "Kovalainen: 53\n",
            "Vettel: 35\n",
            "Trulli: 31\n",
            "Glock: 25\n"
          ]
        }
      ]
    },
    {
      "cell_type": "code",
      "source": [
        "def generate_constructor_standings():\n",
        "    \"\"\"\n",
        "    Generates the constructor standings for the 2008 F1 season.\n",
        "\n",
        "    This function reads race data, calculates total points for each constructor (team),\n",
        "    sorts them by points, and returns the standings as a dictionary.\n",
        "\n",
        "    Returns:\n",
        "        dict: A dictionary containing the constructor standings,\n",
        "              where keys are constructor names and values are their total points.\n",
        "    \"\"\"\n",
        "    # 1. Read the race data from the CSV file.\n",
        "    data = read_data()\n",
        "\n",
        "    # 2. Create an empty dictionary to store constructor points.\n",
        "    constructor_points = {}\n",
        "\n",
        "    # 3. Iterate through each race result (row) in the data.\n",
        "    for row in data:\n",
        "        # a. Get the constructor (team) name from the current row.\n",
        "        constructor = row['Team']\n",
        "        # b. Get the driver's finishing position in this race.\n",
        "        position = int(row['Position'])\n",
        "        # c. Get the points earned for that position using POINTS_BY_POSITION (defaults to 0 if not found).\n",
        "        points = POINTS_BY_POSITION.get(position, 0)\n",
        "        # d. Add the points to the constructor's total, initializing to 0 if it's the first time we see this constructor.\n",
        "        constructor_points[constructor] = constructor_points.get(constructor, 0) + points\n",
        "\n",
        "    # 4. Sort the constructors by their total points in descending order.\n",
        "    sorted_standings = dict(sorted(constructor_points.items(), key=lambda item: item[1], reverse=True))\n",
        "\n",
        "    # 5. Return the sorted constructor standings.\n",
        "    return sorted_standings"
      ],
      "metadata": {
        "id": "BWdlDfg9nWBM"
      },
      "execution_count": null,
      "outputs": []
    },
    {
      "cell_type": "code",
      "source": [
        "# Example usage: Generate and print the constructor standings.\n",
        "constructor_standings = generate_constructor_standings()\n",
        "\n",
        "# Print a header for the standings.\n",
        "print(\"Constructor Standings 2008 Formula 1\")\n",
        "\n",
        "# Iterate through the constructor standings dictionary.\n",
        "for constructor, points in constructor_standings.items():\n",
        "    # Print each constructor's name and their total points.\n",
        "    print(f\"{constructor}: {points}\")"
      ],
      "metadata": {
        "colab": {
          "base_uri": "https://localhost:8080/"
        },
        "id": "tJCVufHTEcnc",
        "outputId": "de4fc6fa-1cda-4790-fa7c-3042cc184e0d"
      },
      "execution_count": null,
      "outputs": [
        {
          "output_type": "stream",
          "name": "stdout",
          "text": [
            "Constructor Standings 2008 Formula 1\n",
            "Ferrari: 172\n",
            "McLaren: 151\n",
            "BMW: 135\n",
            "Renault: 61\n",
            "Toyota: 56\n",
            "Toro Rosso: 35\n"
          ]
        }
      ]
    }
  ]
}